{
  "nbformat": 4,
  "nbformat_minor": 0,
  "metadata": {
    "colab": {
      "provenance": []
    },
    "kernelspec": {
      "name": "python3",
      "display_name": "Python 3"
    },
    "language_info": {
      "name": "python"
    }
  },
  "cells": [
    {
      "cell_type": "code",
      "source": [
        "import numpy as np\n",
        "import matplotlib.pyplot as plt\n",
        "from keras.datasets import fashion_mnist\n",
        "\n",
        "# load dataset\n",
        "(x_train, y_train), (x_test, y_test) = fashion_mnist.load_data()"
      ],
      "metadata": {
        "id": "Ei8zzE07CR9V"
      },
      "execution_count": 16,
      "outputs": []
    },
    {
      "cell_type": "code",
      "source": [
        "classes = set(y_train)\n",
        "variousSamples = list()\n",
        "for i in classes:\n",
        "  ind = np.where(y_train == i)[0][0]\n",
        "  print(ind)\n",
        "  variousSamples.append(x_train[ind])"
      ],
      "metadata": {
        "id": "ZMv-1-gtCi6p",
        "colab": {
          "base_uri": "https://localhost:8080/"
        },
        "outputId": "ef0e94cf-6d9e-4c42-af70-d5099f11f29c"
      },
      "execution_count": 104,
      "outputs": [
        {
          "output_type": "stream",
          "name": "stdout",
          "text": [
            "1\n",
            "16\n",
            "5\n",
            "3\n",
            "19\n",
            "8\n",
            "18\n",
            "6\n",
            "23\n",
            "0\n"
          ]
        }
      ]
    },
    {
      "cell_type": "code",
      "source": [
        "classes"
      ],
      "metadata": {
        "colab": {
          "base_uri": "https://localhost:8080/"
        },
        "id": "ooaLoqYilXq7",
        "outputId": "05fd6afc-e049-4916-e554-2d33483f775d"
      },
      "execution_count": 105,
      "outputs": [
        {
          "output_type": "execute_result",
          "data": {
            "text/plain": [
              "{0, 1, 2, 3, 4, 5, 6, 7, 8, 9}"
            ]
          },
          "metadata": {},
          "execution_count": 105
        }
      ]
    },
    {
      "cell_type": "code",
      "source": [],
      "metadata": {
        "id": "CwZdH2cUlZi3"
      },
      "execution_count": null,
      "outputs": []
    },
    {
      "cell_type": "code",
      "source": [
        "x_flatten_train = x_train.reshape(x_train.shape[0],x_train.shape[1]*x_train.shape[2],1)\n",
        "y_encoded = np.zeros((y_train.shape[0], max(classes) + 1))\n",
        "y_encoded[np.arange(y_train.shape[0]), y_train] = 1"
      ],
      "metadata": {
        "id": "8nEmrnfUFPAn"
      },
      "execution_count": 79,
      "outputs": []
    },
    {
      "cell_type": "code",
      "source": [
        "y_encoded = y_encoded.reshape(60000,10,1)"
      ],
      "metadata": {
        "id": "ldJvYFLriFPn"
      },
      "execution_count": 85,
      "outputs": []
    },
    {
      "cell_type": "code",
      "source": [
        "y_encoded"
      ],
      "metadata": {
        "colab": {
          "base_uri": "https://localhost:8080/"
        },
        "id": "xP0glBDKiNud",
        "outputId": "99b4ee05-a249-43a6-851b-2b57452af0cf"
      },
      "execution_count": 84,
      "outputs": [
        {
          "output_type": "execute_result",
          "data": {
            "text/plain": [
              "array([[0., 0., 0., ..., 0., 0., 1.],\n",
              "       [1., 0., 0., ..., 0., 0., 0.],\n",
              "       [1., 0., 0., ..., 0., 0., 0.],\n",
              "       ...,\n",
              "       [0., 0., 0., ..., 0., 0., 0.],\n",
              "       [1., 0., 0., ..., 0., 0., 0.],\n",
              "       [0., 0., 0., ..., 0., 0., 0.]])"
            ]
          },
          "metadata": {},
          "execution_count": 84
        }
      ]
    },
    {
      "cell_type": "code",
      "source": [
        "layers = 3\n",
        "samples = y_train.shape[0]\n",
        "epochs = 5\n",
        "nodesPerLayer = list()"
      ],
      "metadata": {
        "id": "OjkOPsC-IDZm"
      },
      "execution_count": 19,
      "outputs": []
    },
    {
      "cell_type": "code",
      "source": [
        "nodesPerLayer.append(784)\n",
        "for i in range(0,layers):\n",
        "  nodesPerLayer.append(int(512/(2**(i+1))))\n",
        "nodesPerLayer.append(10)"
      ],
      "metadata": {
        "id": "lXxQd9FhK_ax"
      },
      "execution_count": 20,
      "outputs": []
    },
    {
      "cell_type": "code",
      "source": [
        "print(nodesPerLayer)"
      ],
      "metadata": {
        "colab": {
          "base_uri": "https://localhost:8080/"
        },
        "id": "Ovhr24Gkczv-",
        "outputId": "f21604e8-705b-4e70-ee1c-e7a248afe263"
      },
      "execution_count": 21,
      "outputs": [
        {
          "output_type": "stream",
          "name": "stdout",
          "text": [
            "[784, 256, 128, 64, 10]\n"
          ]
        }
      ]
    },
    {
      "cell_type": "code",
      "source": [
        "weights = list()\n",
        "bias = list()\n",
        "for i in range(1,len(nodesPerLayer)):\n",
        "  w = np.random.rand(nodesPerLayer[i],nodesPerLayer[i-1])\n",
        "  b = np.random.rand(nodesPerLayer[i],1)\n",
        "  weights.append(w)\n",
        "  bias.append(b)"
      ],
      "metadata": {
        "id": "BYq9FAaKLsP7"
      },
      "execution_count": 22,
      "outputs": []
    },
    {
      "cell_type": "code",
      "source": [
        "def func(activation,a_k):\n",
        "  #print(a_k)\n",
        "  if(activation == \"tanh\"):\n",
        "    a_k = np.exp(a_k) - 1/np.exp(a_k) / np.exp(a_k) + 1/np.exp(a_k)\n",
        "  else:\n",
        "    a_k = (1 / (1 + 1/np.exp(a_k)))\n",
        "  return a_k"
      ],
      "metadata": {
        "id": "pR0k8a2uXy3f"
      },
      "execution_count": 101,
      "outputs": []
    },
    {
      "cell_type": "code",
      "source": [
        "def derivativeFun(activation,a_k):\n",
        "  activationResult = func(activation,a_k)\n",
        "  if(activation == \"tanh\"):\n",
        "    activationResult = 1 - (activationResult**2)\n",
        "  else:\n",
        "    activationResult = activationResult - (activationResult**2)\n",
        "  return activationResult"
      ],
      "metadata": {
        "id": "Uas-jhRzYIOm"
      },
      "execution_count": 24,
      "outputs": []
    },
    {
      "cell_type": "code",
      "source": [
        "def decision(a_k,classificationFunction):\n",
        "  if classificationFunction == \"crossEntropy\":\n",
        "     a_k = np.exp(a_k)\n",
        "     a_k = a_k / sum(a_k)\n",
        "  return a_k"
      ],
      "metadata": {
        "id": "u3_w6ojmaD52"
      },
      "execution_count": 25,
      "outputs": []
    },
    {
      "cell_type": "code",
      "source": [
        "def OneHotEncode(C):\n",
        "  oneHot = np.zeros(C.shape)\n",
        "  oneHot[np.argmax(C)] = 1\n",
        "  return oneHot"
      ],
      "metadata": {
        "id": "Tn76NXflcV_N"
      },
      "execution_count": 97,
      "outputs": []
    },
    {
      "cell_type": "code",
      "source": [
        "def forwardProp(inputX,activation,classificationFunction,weights,bias):\n",
        "  h_k = inputX\n",
        "  PreActivations = list()\n",
        "  PostActivations = list()\n",
        "  PostActivations.append(h_k)\n",
        "  for k in range(0,layers):\n",
        "    a_k = bias[k] + np.matmul(weights[k],h_k)\n",
        "    PreActivations.append(a_k)\n",
        "    h_k = func(activation,a_k)\n",
        "    PostActivations.append(h_k)\n",
        "  a_k = bias[layers] + np.matmul(weights[layers],h_k)\n",
        "  PreActivations.append(a_k)\n",
        "  yPred = decision(a_k,classificationFunction)\n",
        "  return PreActivations,PostActivations,yPred"
      ],
      "metadata": {
        "id": "ErGdug_sVCXM"
      },
      "execution_count": 91,
      "outputs": []
    },
    {
      "cell_type": "code",
      "source": [
        "def backProp(pred,real,h_k,weights,activation,PreActivations):\n",
        "  a_l_L_theta = -(real - pred)\n",
        "  currentActivationGradient = a_l_L_theta\n",
        "  WeightGradients = list()\n",
        "  for i in range(layers,-1,-1):\n",
        "    W_i_L_theta = np.matmul(currentActivationGradient,np.transpose(h_k[i-1]))\n",
        "    WeightGradients.insert(0,W_i_L_theta)\n",
        "    b_k_L_theta = a_l_L_theta\n",
        "    h_i_prev_L_theta = np.matmul(np.transpose(weights[i]),currentActivationGradient)\n",
        "    currentActivationGradient = h_i_prev_L_theta*derivativeFun(activation,PreActivations[i-1])\n",
        "  return WeightGradients"
      ],
      "metadata": {
        "id": "5su-YXfadNXD"
      },
      "execution_count": 56,
      "outputs": []
    },
    {
      "cell_type": "code",
      "source": [
        "for i in range(0,epochs):\n",
        "  for j in range(0,samples):\n",
        "    A,B,C = forwardProp(x_flatten_train[j],\"sigmoid\",\"crossEntropy\",weights,bias)\n",
        "    newC = OneHotEncode(C)\n",
        "    delta = backProp(newC,y_encoded[j],B,weights,\"sigmoid\",A)"
      ],
      "metadata": {
        "id": "Ns8hWfTZyvZ6"
      },
      "execution_count": null,
      "outputs": []
    },
    {
      "cell_type": "code",
      "source": [
        "newC.shape"
      ],
      "metadata": {
        "colab": {
          "base_uri": "https://localhost:8080/"
        },
        "id": "YKOZPgUyhxEM",
        "outputId": "b4e4fc66-c6b6-4da7-8f0e-264475dcb6d8"
      },
      "execution_count": 75,
      "outputs": [
        {
          "output_type": "execute_result",
          "data": {
            "text/plain": [
              "(10, 1)"
            ]
          },
          "metadata": {},
          "execution_count": 75
        }
      ]
    },
    {
      "cell_type": "code",
      "source": [],
      "metadata": {
        "id": "gAOYZOD8hykU"
      },
      "execution_count": null,
      "outputs": []
    }
  ]
}